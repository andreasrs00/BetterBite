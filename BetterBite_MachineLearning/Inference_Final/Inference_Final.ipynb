{
  "nbformat": 4,
  "nbformat_minor": 0,
  "metadata": {
    "colab": {
      "provenance": []
    },
    "kernelspec": {
      "name": "python3",
      "display_name": "Python 3"
    },
    "language_info": {
      "name": "python"
    }
  },
  "cells": [
    {
      "cell_type": "code",
      "execution_count": 16,
      "metadata": {
        "id": "IPBr2fY9svu_"
      },
      "outputs": [],
      "source": [
        "import numpy as np\n",
        "import tensorflow as tf\n",
        "from tensorflow.keras.preprocessing import image\n",
        "import os\n",
        "from tensorflow.keras.models import load_model\n",
        "from tensorflow.keras.preprocessing import image\n",
        "import pandas as pd\n"
      ]
    },
    {
      "cell_type": "code",
      "source": [
        "model = tf.keras.models.load_model('/content/food101_mobilenetv2_final.keras')"
      ],
      "metadata": {
        "colab": {
          "base_uri": "https://localhost:8080/"
        },
        "id": "1qYHwR2RJ-jZ",
        "outputId": "21fa722c-34ac-428c-89c8-6a0592e84b51"
      },
      "execution_count": 6,
      "outputs": [
        {
          "output_type": "stream",
          "name": "stderr",
          "text": [
            "/usr/local/lib/python3.11/dist-packages/keras/src/saving/saving_lib.py:757: UserWarning: Skipping variable loading for optimizer 'rmsprop', because it has 58 variables whereas the saved optimizer has 114 variables. \n",
            "  saveable.load_own_variables(weights_store.get(inner_path))\n"
          ]
        }
      ]
    },
    {
      "cell_type": "code",
      "source": [
        "class_names = [\n",
        "    'apple_pie', 'baby_back_ribs', 'baklava', 'beef_carpaccio', 'beef_tartare', 'beet_salad', 'beignets',\n",
        "    'bibimbap', 'bread_pudding', 'breakfast_burrito', 'caesar_salad', 'cannoli', 'caprese_salad', 'carrot_cake',\n",
        "    'cheese_plate', 'cheesecake', 'chicken_quesadilla', 'chicken_wings', 'chocolate_cake', 'chocolate_mousse',\n",
        "    'churros', 'clam_chowder', 'club_sandwich', 'crab_cakes', 'creme_brulee', 'croque_madame', 'cup_cakes',\n",
        "    'deviled_eggs', 'donuts', 'dumplings', 'edamame', 'eggs_benedict', 'escargots', 'falafel', 'filet_mignon',\n",
        "    'foie_gras', 'french_fries', 'french_toast', 'fried_calamari', 'fried_rice', 'frozen_yogurt', 'garlic_bread',\n",
        "    'grilled_cheese_sandwich', 'grilled_salmon', 'guacamole', 'gyoza', 'hamburger', 'hot_and_sour_soup', 'hot_dog',\n",
        "    'huevos_rancheros', 'hummus', 'ice_cream', 'lasagna', 'lobster_bisque', 'lobster_roll_sandwich', 'macarons',\n",
        "    'miso_soup', 'mussels', 'nachos', 'omelette', 'onion_rings', 'oysters', 'pad_thai', 'paella', 'pancakes',\n",
        "    'panna_cotta', 'peking_duck', 'pho', 'pizza', 'pork_chop', 'poutine', 'prime_rib', 'pulled_pork_sandwich',\n",
        "    'ramen', 'red_velvet_cake', 'risotto', 'samosa', 'sashimi', 'seaweed_salad', 'spaghetti_bolognese',\n",
        "    'spaghetti_carbonara', 'spring_rolls', 'steak', 'strawberry_shortcake', 'sushi', 'tacos', 'takoyaki',\n",
        "    'tiramisu', 'tuna_tartare', 'waffles'\n",
        "]\n",
        "\n"
      ],
      "metadata": {
        "id": "-HVYQwN-J_wP"
      },
      "execution_count": 7,
      "outputs": []
    },
    {
      "cell_type": "code",
      "source": [
        "image_folder = \"/content/foodphoto\""
      ],
      "metadata": {
        "id": "S8zTB6TGKQF4"
      },
      "execution_count": 8,
      "outputs": []
    },
    {
      "cell_type": "code",
      "source": [
        "def load_and_preprocess(img_path):\n",
        "    img = image.load_img(img_path, target_size=(224, 224))\n",
        "    img_array = image.img_to_array(img) / 255.0\n",
        "    return np.expand_dims(img_array, axis=0)"
      ],
      "metadata": {
        "id": "2JFuoKZgM5z1"
      },
      "execution_count": 10,
      "outputs": []
    },
    {
      "cell_type": "code",
      "source": [
        "results = []"
      ],
      "metadata": {
        "id": "N8Bn_wuvM-gr"
      },
      "execution_count": 12,
      "outputs": []
    },
    {
      "cell_type": "code",
      "source": [
        "# Loop semua file gambar\n",
        "for filename in os.listdir(image_folder):\n",
        "    if filename.endswith(\".jpg\"):\n",
        "        true_label = os.path.splitext(filename)[0]\n",
        "        img_path = os.path.join(image_folder, filename)\n",
        "        img_array = load_and_preprocess(img_path)\n",
        "\n",
        "        # Inference\n",
        "        pred = model.predict(img_array)[0]\n",
        "        predicted_index = np.argmax(pred)\n",
        "        predicted_label = class_names[predicted_index]\n",
        "        confidence = pred[predicted_index] * 100\n",
        "\n",
        "        results.append({\n",
        "            \"filename\": filename,\n",
        "            \"true_label\": true_label,\n",
        "            \"predicted_label\": predicted_label,\n",
        "            \"confidence\": round(confidence, 2)\n",
        "        })"
      ],
      "metadata": {
        "colab": {
          "base_uri": "https://localhost:8080/"
        },
        "id": "QCV7UhnpKQiR",
        "outputId": "252893df-577a-4ebf-955e-ba845c18aa7e"
      },
      "execution_count": 13,
      "outputs": [
        {
          "output_type": "stream",
          "name": "stdout",
          "text": [
            "\u001b[1m1/1\u001b[0m \u001b[32m━━━━━━━━━━━━━━━━━━━━\u001b[0m\u001b[37m\u001b[0m \u001b[1m0s\u001b[0m 391ms/step\n",
            "\u001b[1m1/1\u001b[0m \u001b[32m━━━━━━━━━━━━━━━━━━━━\u001b[0m\u001b[37m\u001b[0m \u001b[1m0s\u001b[0m 377ms/step\n",
            "\u001b[1m1/1\u001b[0m \u001b[32m━━━━━━━━━━━━━━━━━━━━\u001b[0m\u001b[37m\u001b[0m \u001b[1m0s\u001b[0m 393ms/step\n",
            "\u001b[1m1/1\u001b[0m \u001b[32m━━━━━━━━━━━━━━━━━━━━\u001b[0m\u001b[37m\u001b[0m \u001b[1m0s\u001b[0m 432ms/step\n",
            "\u001b[1m1/1\u001b[0m \u001b[32m━━━━━━━━━━━━━━━━━━━━\u001b[0m\u001b[37m\u001b[0m \u001b[1m0s\u001b[0m 372ms/step\n",
            "\u001b[1m1/1\u001b[0m \u001b[32m━━━━━━━━━━━━━━━━━━━━\u001b[0m\u001b[37m\u001b[0m \u001b[1m0s\u001b[0m 407ms/step\n",
            "\u001b[1m1/1\u001b[0m \u001b[32m━━━━━━━━━━━━━━━━━━━━\u001b[0m\u001b[37m\u001b[0m \u001b[1m0s\u001b[0m 382ms/step\n",
            "\u001b[1m1/1\u001b[0m \u001b[32m━━━━━━━━━━━━━━━━━━━━\u001b[0m\u001b[37m\u001b[0m \u001b[1m1s\u001b[0m 748ms/step\n",
            "\u001b[1m1/1\u001b[0m \u001b[32m━━━━━━━━━━━━━━━━━━━━\u001b[0m\u001b[37m\u001b[0m \u001b[1m1s\u001b[0m 690ms/step\n",
            "\u001b[1m1/1\u001b[0m \u001b[32m━━━━━━━━━━━━━━━━━━━━\u001b[0m\u001b[37m\u001b[0m \u001b[1m0s\u001b[0m 376ms/step\n",
            "\u001b[1m1/1\u001b[0m \u001b[32m━━━━━━━━━━━━━━━━━━━━\u001b[0m\u001b[37m\u001b[0m \u001b[1m0s\u001b[0m 380ms/step\n",
            "\u001b[1m1/1\u001b[0m \u001b[32m━━━━━━━━━━━━━━━━━━━━\u001b[0m\u001b[37m\u001b[0m \u001b[1m0s\u001b[0m 396ms/step\n",
            "\u001b[1m1/1\u001b[0m \u001b[32m━━━━━━━━━━━━━━━━━━━━\u001b[0m\u001b[37m\u001b[0m \u001b[1m0s\u001b[0m 379ms/step\n",
            "\u001b[1m1/1\u001b[0m \u001b[32m━━━━━━━━━━━━━━━━━━━━\u001b[0m\u001b[37m\u001b[0m \u001b[1m0s\u001b[0m 389ms/step\n",
            "\u001b[1m1/1\u001b[0m \u001b[32m━━━━━━━━━━━━━━━━━━━━\u001b[0m\u001b[37m\u001b[0m \u001b[1m0s\u001b[0m 404ms/step\n",
            "\u001b[1m1/1\u001b[0m \u001b[32m━━━━━━━━━━━━━━━━━━━━\u001b[0m\u001b[37m\u001b[0m \u001b[1m0s\u001b[0m 378ms/step\n",
            "\u001b[1m1/1\u001b[0m \u001b[32m━━━━━━━━━━━━━━━━━━━━\u001b[0m\u001b[37m\u001b[0m \u001b[1m0s\u001b[0m 483ms/step\n",
            "\u001b[1m1/1\u001b[0m \u001b[32m━━━━━━━━━━━━━━━━━━━━\u001b[0m\u001b[37m\u001b[0m \u001b[1m0s\u001b[0m 378ms/step\n",
            "\u001b[1m1/1\u001b[0m \u001b[32m━━━━━━━━━━━━━━━━━━━━\u001b[0m\u001b[37m\u001b[0m \u001b[1m0s\u001b[0m 389ms/step\n",
            "\u001b[1m1/1\u001b[0m \u001b[32m━━━━━━━━━━━━━━━━━━━━\u001b[0m\u001b[37m\u001b[0m \u001b[1m0s\u001b[0m 393ms/step\n",
            "\u001b[1m1/1\u001b[0m \u001b[32m━━━━━━━━━━━━━━━━━━━━\u001b[0m\u001b[37m\u001b[0m \u001b[1m0s\u001b[0m 382ms/step\n",
            "\u001b[1m1/1\u001b[0m \u001b[32m━━━━━━━━━━━━━━━━━━━━\u001b[0m\u001b[37m\u001b[0m \u001b[1m0s\u001b[0m 381ms/step\n",
            "\u001b[1m1/1\u001b[0m \u001b[32m━━━━━━━━━━━━━━━━━━━━\u001b[0m\u001b[37m\u001b[0m \u001b[1m0s\u001b[0m 377ms/step\n",
            "\u001b[1m1/1\u001b[0m \u001b[32m━━━━━━━━━━━━━━━━━━━━\u001b[0m\u001b[37m\u001b[0m \u001b[1m0s\u001b[0m 404ms/step\n",
            "\u001b[1m1/1\u001b[0m \u001b[32m━━━━━━━━━━━━━━━━━━━━\u001b[0m\u001b[37m\u001b[0m \u001b[1m0s\u001b[0m 441ms/step\n",
            "\u001b[1m1/1\u001b[0m \u001b[32m━━━━━━━━━━━━━━━━━━━━\u001b[0m\u001b[37m\u001b[0m \u001b[1m1s\u001b[0m 719ms/step\n",
            "\u001b[1m1/1\u001b[0m \u001b[32m━━━━━━━━━━━━━━━━━━━━\u001b[0m\u001b[37m\u001b[0m \u001b[1m1s\u001b[0m 620ms/step\n",
            "\u001b[1m1/1\u001b[0m \u001b[32m━━━━━━━━━━━━━━━━━━━━\u001b[0m\u001b[37m\u001b[0m \u001b[1m0s\u001b[0m 380ms/step\n",
            "\u001b[1m1/1\u001b[0m \u001b[32m━━━━━━━━━━━━━━━━━━━━\u001b[0m\u001b[37m\u001b[0m \u001b[1m0s\u001b[0m 382ms/step\n",
            "\u001b[1m1/1\u001b[0m \u001b[32m━━━━━━━━━━━━━━━━━━━━\u001b[0m\u001b[37m\u001b[0m \u001b[1m0s\u001b[0m 384ms/step\n",
            "\u001b[1m1/1\u001b[0m \u001b[32m━━━━━━━━━━━━━━━━━━━━\u001b[0m\u001b[37m\u001b[0m \u001b[1m0s\u001b[0m 418ms/step\n",
            "\u001b[1m1/1\u001b[0m \u001b[32m━━━━━━━━━━━━━━━━━━━━\u001b[0m\u001b[37m\u001b[0m \u001b[1m0s\u001b[0m 374ms/step\n",
            "\u001b[1m1/1\u001b[0m \u001b[32m━━━━━━━━━━━━━━━━━━━━\u001b[0m\u001b[37m\u001b[0m \u001b[1m0s\u001b[0m 373ms/step\n",
            "\u001b[1m1/1\u001b[0m \u001b[32m━━━━━━━━━━━━━━━━━━━━\u001b[0m\u001b[37m\u001b[0m \u001b[1m0s\u001b[0m 388ms/step\n",
            "\u001b[1m1/1\u001b[0m \u001b[32m━━━━━━━━━━━━━━━━━━━━\u001b[0m\u001b[37m\u001b[0m \u001b[1m0s\u001b[0m 374ms/step\n",
            "\u001b[1m1/1\u001b[0m \u001b[32m━━━━━━━━━━━━━━━━━━━━\u001b[0m\u001b[37m\u001b[0m \u001b[1m0s\u001b[0m 381ms/step\n",
            "\u001b[1m1/1\u001b[0m \u001b[32m━━━━━━━━━━━━━━━━━━━━\u001b[0m\u001b[37m\u001b[0m \u001b[1m0s\u001b[0m 378ms/step\n",
            "\u001b[1m1/1\u001b[0m \u001b[32m━━━━━━━━━━━━━━━━━━━━\u001b[0m\u001b[37m\u001b[0m \u001b[1m0s\u001b[0m 395ms/step\n",
            "\u001b[1m1/1\u001b[0m \u001b[32m━━━━━━━━━━━━━━━━━━━━\u001b[0m\u001b[37m\u001b[0m \u001b[1m0s\u001b[0m 379ms/step\n",
            "\u001b[1m1/1\u001b[0m \u001b[32m━━━━━━━━━━━━━━━━━━━━\u001b[0m\u001b[37m\u001b[0m \u001b[1m0s\u001b[0m 398ms/step\n",
            "\u001b[1m1/1\u001b[0m \u001b[32m━━━━━━━━━━━━━━━━━━━━\u001b[0m\u001b[37m\u001b[0m \u001b[1m0s\u001b[0m 374ms/step\n",
            "\u001b[1m1/1\u001b[0m \u001b[32m━━━━━━━━━━━━━━━━━━━━\u001b[0m\u001b[37m\u001b[0m \u001b[1m0s\u001b[0m 405ms/step\n",
            "\u001b[1m1/1\u001b[0m \u001b[32m━━━━━━━━━━━━━━━━━━━━\u001b[0m\u001b[37m\u001b[0m \u001b[1m0s\u001b[0m 377ms/step\n",
            "\u001b[1m1/1\u001b[0m \u001b[32m━━━━━━━━━━━━━━━━━━━━\u001b[0m\u001b[37m\u001b[0m \u001b[1m0s\u001b[0m 387ms/step\n",
            "\u001b[1m1/1\u001b[0m \u001b[32m━━━━━━━━━━━━━━━━━━━━\u001b[0m\u001b[37m\u001b[0m \u001b[1m1s\u001b[0m 702ms/step\n",
            "\u001b[1m1/1\u001b[0m \u001b[32m━━━━━━━━━━━━━━━━━━━━\u001b[0m\u001b[37m\u001b[0m \u001b[1m1s\u001b[0m 684ms/step\n",
            "\u001b[1m1/1\u001b[0m \u001b[32m━━━━━━━━━━━━━━━━━━━━\u001b[0m\u001b[37m\u001b[0m \u001b[1m0s\u001b[0m 390ms/step\n",
            "\u001b[1m1/1\u001b[0m \u001b[32m━━━━━━━━━━━━━━━━━━━━\u001b[0m\u001b[37m\u001b[0m \u001b[1m0s\u001b[0m 409ms/step\n",
            "\u001b[1m1/1\u001b[0m \u001b[32m━━━━━━━━━━━━━━━━━━━━\u001b[0m\u001b[37m\u001b[0m \u001b[1m0s\u001b[0m 375ms/step\n",
            "\u001b[1m1/1\u001b[0m \u001b[32m━━━━━━━━━━━━━━━━━━━━\u001b[0m\u001b[37m\u001b[0m \u001b[1m0s\u001b[0m 387ms/step\n",
            "\u001b[1m1/1\u001b[0m \u001b[32m━━━━━━━━━━━━━━━━━━━━\u001b[0m\u001b[37m\u001b[0m \u001b[1m0s\u001b[0m 372ms/step\n",
            "\u001b[1m1/1\u001b[0m \u001b[32m━━━━━━━━━━━━━━━━━━━━\u001b[0m\u001b[37m\u001b[0m \u001b[1m0s\u001b[0m 404ms/step\n",
            "\u001b[1m1/1\u001b[0m \u001b[32m━━━━━━━━━━━━━━━━━━━━\u001b[0m\u001b[37m\u001b[0m \u001b[1m0s\u001b[0m 366ms/step\n",
            "\u001b[1m1/1\u001b[0m \u001b[32m━━━━━━━━━━━━━━━━━━━━\u001b[0m\u001b[37m\u001b[0m \u001b[1m0s\u001b[0m 382ms/step\n",
            "\u001b[1m1/1\u001b[0m \u001b[32m━━━━━━━━━━━━━━━━━━━━\u001b[0m\u001b[37m\u001b[0m \u001b[1m0s\u001b[0m 399ms/step\n",
            "\u001b[1m1/1\u001b[0m \u001b[32m━━━━━━━━━━━━━━━━━━━━\u001b[0m\u001b[37m\u001b[0m \u001b[1m0s\u001b[0m 379ms/step\n",
            "\u001b[1m1/1\u001b[0m \u001b[32m━━━━━━━━━━━━━━━━━━━━\u001b[0m\u001b[37m\u001b[0m \u001b[1m0s\u001b[0m 409ms/step\n",
            "\u001b[1m1/1\u001b[0m \u001b[32m━━━━━━━━━━━━━━━━━━━━\u001b[0m\u001b[37m\u001b[0m \u001b[1m0s\u001b[0m 389ms/step\n",
            "\u001b[1m1/1\u001b[0m \u001b[32m━━━━━━━━━━━━━━━━━━━━\u001b[0m\u001b[37m\u001b[0m \u001b[1m0s\u001b[0m 381ms/step\n",
            "\u001b[1m1/1\u001b[0m \u001b[32m━━━━━━━━━━━━━━━━━━━━\u001b[0m\u001b[37m\u001b[0m \u001b[1m0s\u001b[0m 396ms/step\n",
            "\u001b[1m1/1\u001b[0m \u001b[32m━━━━━━━━━━━━━━━━━━━━\u001b[0m\u001b[37m\u001b[0m \u001b[1m0s\u001b[0m 380ms/step\n",
            "\u001b[1m1/1\u001b[0m \u001b[32m━━━━━━━━━━━━━━━━━━━━\u001b[0m\u001b[37m\u001b[0m \u001b[1m0s\u001b[0m 448ms/step\n",
            "\u001b[1m1/1\u001b[0m \u001b[32m━━━━━━━━━━━━━━━━━━━━\u001b[0m\u001b[37m\u001b[0m \u001b[1m1s\u001b[0m 724ms/step\n",
            "\u001b[1m1/1\u001b[0m \u001b[32m━━━━━━━━━━━━━━━━━━━━\u001b[0m\u001b[37m\u001b[0m \u001b[1m1s\u001b[0m 687ms/step\n",
            "\u001b[1m1/1\u001b[0m \u001b[32m━━━━━━━━━━━━━━━━━━━━\u001b[0m\u001b[37m\u001b[0m \u001b[1m0s\u001b[0m 384ms/step\n",
            "\u001b[1m1/1\u001b[0m \u001b[32m━━━━━━━━━━━━━━━━━━━━\u001b[0m\u001b[37m\u001b[0m \u001b[1m0s\u001b[0m 376ms/step\n",
            "\u001b[1m1/1\u001b[0m \u001b[32m━━━━━━━━━━━━━━━━━━━━\u001b[0m\u001b[37m\u001b[0m \u001b[1m0s\u001b[0m 400ms/step\n",
            "\u001b[1m1/1\u001b[0m \u001b[32m━━━━━━━━━━━━━━━━━━━━\u001b[0m\u001b[37m\u001b[0m \u001b[1m0s\u001b[0m 406ms/step\n",
            "\u001b[1m1/1\u001b[0m \u001b[32m━━━━━━━━━━━━━━━━━━━━\u001b[0m\u001b[37m\u001b[0m \u001b[1m0s\u001b[0m 386ms/step\n",
            "\u001b[1m1/1\u001b[0m \u001b[32m━━━━━━━━━━━━━━━━━━━━\u001b[0m\u001b[37m\u001b[0m \u001b[1m0s\u001b[0m 402ms/step\n",
            "\u001b[1m1/1\u001b[0m \u001b[32m━━━━━━━━━━━━━━━━━━━━\u001b[0m\u001b[37m\u001b[0m \u001b[1m0s\u001b[0m 375ms/step\n",
            "\u001b[1m1/1\u001b[0m \u001b[32m━━━━━━━━━━━━━━━━━━━━\u001b[0m\u001b[37m\u001b[0m \u001b[1m0s\u001b[0m 379ms/step\n",
            "\u001b[1m1/1\u001b[0m \u001b[32m━━━━━━━━━━━━━━━━━━━━\u001b[0m\u001b[37m\u001b[0m \u001b[1m0s\u001b[0m 381ms/step\n",
            "\u001b[1m1/1\u001b[0m \u001b[32m━━━━━━━━━━━━━━━━━━━━\u001b[0m\u001b[37m\u001b[0m \u001b[1m0s\u001b[0m 443ms/step\n",
            "\u001b[1m1/1\u001b[0m \u001b[32m━━━━━━━━━━━━━━━━━━━━\u001b[0m\u001b[37m\u001b[0m \u001b[1m0s\u001b[0m 406ms/step\n",
            "\u001b[1m1/1\u001b[0m \u001b[32m━━━━━━━━━━━━━━━━━━━━\u001b[0m\u001b[37m\u001b[0m \u001b[1m0s\u001b[0m 377ms/step\n",
            "\u001b[1m1/1\u001b[0m \u001b[32m━━━━━━━━━━━━━━━━━━━━\u001b[0m\u001b[37m\u001b[0m \u001b[1m0s\u001b[0m 377ms/step\n",
            "\u001b[1m1/1\u001b[0m \u001b[32m━━━━━━━━━━━━━━━━━━━━\u001b[0m\u001b[37m\u001b[0m \u001b[1m0s\u001b[0m 398ms/step\n",
            "\u001b[1m1/1\u001b[0m \u001b[32m━━━━━━━━━━━━━━━━━━━━\u001b[0m\u001b[37m\u001b[0m \u001b[1m0s\u001b[0m 390ms/step\n",
            "\u001b[1m1/1\u001b[0m \u001b[32m━━━━━━━━━━━━━━━━━━━━\u001b[0m\u001b[37m\u001b[0m \u001b[1m1s\u001b[0m 544ms/step\n",
            "\u001b[1m1/1\u001b[0m \u001b[32m━━━━━━━━━━━━━━━━━━━━\u001b[0m\u001b[37m\u001b[0m \u001b[1m1s\u001b[0m 755ms/step\n",
            "\u001b[1m1/1\u001b[0m \u001b[32m━━━━━━━━━━━━━━━━━━━━\u001b[0m\u001b[37m\u001b[0m \u001b[1m1s\u001b[0m 628ms/step\n",
            "\u001b[1m1/1\u001b[0m \u001b[32m━━━━━━━━━━━━━━━━━━━━\u001b[0m\u001b[37m\u001b[0m \u001b[1m0s\u001b[0m 399ms/step\n",
            "\u001b[1m1/1\u001b[0m \u001b[32m━━━━━━━━━━━━━━━━━━━━\u001b[0m\u001b[37m\u001b[0m \u001b[1m0s\u001b[0m 371ms/step\n",
            "\u001b[1m1/1\u001b[0m \u001b[32m━━━━━━━━━━━━━━━━━━━━\u001b[0m\u001b[37m\u001b[0m \u001b[1m0s\u001b[0m 382ms/step\n",
            "\u001b[1m1/1\u001b[0m \u001b[32m━━━━━━━━━━━━━━━━━━━━\u001b[0m\u001b[37m\u001b[0m \u001b[1m1s\u001b[0m 645ms/step\n",
            "\u001b[1m1/1\u001b[0m \u001b[32m━━━━━━━━━━━━━━━━━━━━\u001b[0m\u001b[37m\u001b[0m \u001b[1m1s\u001b[0m 1s/step   \n",
            "\u001b[1m1/1\u001b[0m \u001b[32m━━━━━━━━━━━━━━━━━━━━\u001b[0m\u001b[37m\u001b[0m \u001b[1m1s\u001b[0m 994ms/step\n",
            "\u001b[1m1/1\u001b[0m \u001b[32m━━━━━━━━━━━━━━━━━━━━\u001b[0m\u001b[37m\u001b[0m \u001b[1m1s\u001b[0m 908ms/step\n",
            "\u001b[1m1/1\u001b[0m \u001b[32m━━━━━━━━━━━━━━━━━━━━\u001b[0m\u001b[37m\u001b[0m \u001b[1m1s\u001b[0m 728ms/step\n"
          ]
        }
      ]
    },
    {
      "cell_type": "code",
      "source": [
        "for r in results:\n",
        "    print(f\"{r['filename']}: true={r['true_label']}, predicted={r['predicted_label']}, confidence={r['confidence']}%\")"
      ],
      "metadata": {
        "colab": {
          "base_uri": "https://localhost:8080/"
        },
        "id": "cOHavVQkKCqc",
        "outputId": "da6b1fa4-70fc-419d-b104-b9bd9848b293"
      },
      "execution_count": 14,
      "outputs": [
        {
          "output_type": "stream",
          "name": "stdout",
          "text": [
            "edamame.jpg: true=edamame, predicted=edamame, confidence=99.98999786376953%\n",
            "peking_duck.jpg: true=peking_duck, predicted=peking_duck, confidence=99.88999938964844%\n",
            "filet_mignon.jpg: true=filet_mignon, predicted=pork_chop, confidence=40.439998626708984%\n",
            "risotto.jpg: true=risotto, predicted=risotto, confidence=98.94000244140625%\n",
            "waffles.jpg: true=waffles, predicted=waffles, confidence=100.0%\n",
            "frozen_yogurt.jpg: true=frozen_yogurt, predicted=ice_cream, confidence=56.84000015258789%\n",
            "dumplings.jpg: true=dumplings, predicted=dumplings, confidence=97.19999694824219%\n",
            "grilled_cheese_sandwich.jpg: true=grilled_cheese_sandwich, predicted=grilled_cheese_sandwich, confidence=94.62999725341797%\n",
            "gyoza.jpg: true=gyoza, predicted=gyoza, confidence=99.9800033569336%\n",
            "cannoli.jpg: true=cannoli, predicted=cannoli, confidence=91.44000244140625%\n",
            "croque_madame.jpg: true=croque_madame, predicted=croque_madame, confidence=82.30000305175781%\n",
            "cheese_plate.jpg: true=cheese_plate, predicted=cheese_plate, confidence=99.94000244140625%\n",
            "seaweed_salad.jpg: true=seaweed_salad, predicted=seaweed_salad, confidence=94.04000091552734%\n",
            "cheesecake.jpg: true=cheesecake, predicted=cheesecake, confidence=97.12000274658203%\n",
            "sushi.jpg: true=sushi, predicted=sushi, confidence=65.51000213623047%\n",
            "bread_pudding.jpg: true=bread_pudding, predicted=apple_pie, confidence=40.540000915527344%\n",
            "falafel.jpg: true=falafel, predicted=falafel, confidence=99.4800033569336%\n",
            "spaghetti_bolognese.jpg: true=spaghetti_bolognese, predicted=spaghetti_bolognese, confidence=84.16999816894531%\n",
            "chocolate_mousse.jpg: true=chocolate_mousse, predicted=chocolate_mousse, confidence=94.05999755859375%\n",
            "panna_cotta.jpg: true=panna_cotta, predicted=panna_cotta, confidence=94.05000305175781%\n",
            "guacamole.jpg: true=guacamole, predicted=guacamole, confidence=99.97000122070312%\n",
            "prime_rib.jpg: true=prime_rib, predicted=prime_rib, confidence=62.029998779296875%\n",
            "sashimi.jpg: true=sashimi, predicted=sashimi, confidence=99.73999786376953%\n",
            "ice_cream.jpg: true=ice_cream, predicted=ice_cream, confidence=84.43000030517578%\n",
            "creme_brulee.jpg: true=creme_brulee, predicted=creme_brulee, confidence=98.20999908447266%\n",
            "nachos.jpg: true=nachos, predicted=nachos, confidence=91.19000244140625%\n",
            "french_fries.jpg: true=french_fries, predicted=french_fries, confidence=93.79000091552734%\n",
            "cup_cakes.jpg: true=cup_cakes, predicted=cup_cakes, confidence=73.0%\n",
            "oysters.jpg: true=oysters, predicted=oysters, confidence=100.0%\n",
            "strawberry_shortcake.jpg: true=strawberry_shortcake, predicted=strawberry_shortcake, confidence=96.58999633789062%\n",
            "beignets.jpg: true=beignets, predicted=beignets, confidence=91.02999877929688%\n",
            "pork_chop.jpg: true=pork_chop, predicted=macarons, confidence=89.04000091552734%\n",
            "beef_carpaccio.jpg: true=beef_carpaccio, predicted=beef_carpaccio, confidence=69.22000122070312%\n",
            "pho.jpg: true=pho, predicted=pho, confidence=98.52999877929688%\n",
            "carrot_cake.jpg: true=carrot_cake, predicted=carrot_cake, confidence=94.29000091552734%\n",
            "hot_dog.jpg: true=hot_dog, predicted=hot_dog, confidence=99.94000244140625%\n",
            "omelette.jpg: true=omelette, predicted=omelette, confidence=97.29000091552734%\n",
            "takoyaki.jpg: true=takoyaki, predicted=takoyaki, confidence=97.3499984741211%\n",
            "mussels.jpg: true=mussels, predicted=mussels, confidence=99.98999786376953%\n",
            "churros.jpg: true=churros, predicted=churros, confidence=99.33999633789062%\n",
            "spring_rolls.jpg: true=spring_rolls, predicted=spring_rolls, confidence=98.87999725341797%\n",
            "chocolate_cake.jpg: true=chocolate_cake, predicted=chocolate_cake, confidence=98.43000030517578%\n",
            "apple_pie.jpg: true=apple_pie, predicted=apple_pie, confidence=95.23999786376953%\n",
            "poutine.jpg: true=poutine, predicted=poutine, confidence=99.75%\n",
            "lasagna.jpg: true=lasagna, predicted=lasagna, confidence=94.12999725341797%\n",
            "escargots.jpg: true=escargots, predicted=escargots, confidence=84.66999816894531%\n",
            "huevos_rancheros.jpg: true=huevos_rancheros, predicted=mussels, confidence=29.8700008392334%\n",
            "samosa.jpg: true=samosa, predicted=samosa, confidence=99.9000015258789%\n",
            "pulled_pork_sandwich.jpg: true=pulled_pork_sandwich, predicted=pulled_pork_sandwich, confidence=98.36000061035156%\n",
            "tuna_tartare.jpg: true=tuna_tartare, predicted=tuna_tartare, confidence=96.06999969482422%\n",
            "pizza.jpg: true=pizza, predicted=pizza, confidence=97.70999908447266%\n",
            "hamburger.jpg: true=hamburger, predicted=hamburger, confidence=99.73999786376953%\n",
            "clam_chowder.jpg: true=clam_chowder, predicted=clam_chowder, confidence=98.5999984741211%\n",
            "french_toast.jpg: true=french_toast, predicted=french_toast, confidence=85.55999755859375%\n",
            "chicken_wings.jpg: true=chicken_wings, predicted=chicken_wings, confidence=99.80999755859375%\n",
            "eggs_benedict.jpg: true=eggs_benedict, predicted=eggs_benedict, confidence=96.44999694824219%\n",
            "crab_cakes.jpg: true=crab_cakes, predicted=crab_cakes, confidence=55.41999816894531%\n",
            "fried_calamari.jpg: true=fried_calamari, predicted=fried_calamari, confidence=93.75%\n",
            "red_velvet_cake.jpg: true=red_velvet_cake, predicted=red_velvet_cake, confidence=99.33000183105469%\n",
            "paella.jpg: true=paella, predicted=paella, confidence=98.54000091552734%\n",
            "tacos.jpg: true=tacos, predicted=tacos, confidence=95.47000122070312%\n",
            "fried_rice.jpg: true=fried_rice, predicted=fried_rice, confidence=62.939998626708984%\n",
            "deviled_eggs.jpg: true=deviled_eggs, predicted=deviled_eggs, confidence=96.6500015258789%\n",
            "ramen.jpg: true=ramen, predicted=ramen, confidence=97.20999908447266%\n",
            "pad_thai.jpg: true=pad_thai, predicted=pad_thai, confidence=78.05999755859375%\n",
            "garlic_bread.jpg: true=garlic_bread, predicted=garlic_bread, confidence=63.689998626708984%\n",
            "caesar_salad.jpg: true=caesar_salad, predicted=caesar_salad, confidence=93.37000274658203%\n",
            "bibimbap.jpg: true=bibimbap, predicted=bibimbap, confidence=99.19000244140625%\n",
            "baklava.jpg: true=baklava, predicted=baklava, confidence=96.95999908447266%\n",
            "donuts.jpg: true=donuts, predicted=donuts, confidence=99.97000122070312%\n",
            "tiramisu.jpg: true=tiramisu, predicted=tiramisu, confidence=98.18000030517578%\n",
            "hummus.jpg: true=hummus, predicted=hummus, confidence=99.70999908447266%\n",
            "club_sandwich.jpg: true=club_sandwich, predicted=club_sandwich, confidence=98.5999984741211%\n",
            "breakfast_burrito.jpg: true=breakfast_burrito, predicted=breakfast_burrito, confidence=54.02000045776367%\n",
            "caprese_salad.jpg: true=caprese_salad, predicted=caprese_salad, confidence=81.76000213623047%\n",
            "hot_and_sour_soup.jpg: true=hot_and_sour_soup, predicted=hot_and_sour_soup, confidence=69.58999633789062%\n",
            "steak.jpg: true=steak, predicted=baby_back_ribs, confidence=95.04000091552734%\n",
            "beef_tartare.jpg: true=beef_tartare, predicted=beef_tartare, confidence=99.18000030517578%\n",
            "foie_gras.jpg: true=foie_gras, predicted=foie_gras, confidence=90.37000274658203%\n",
            "spaghetti_carbonara.jpg: true=spaghetti_carbonara, predicted=spaghetti_carbonara, confidence=99.33999633789062%\n",
            "onion_rings.jpg: true=onion_rings, predicted=onion_rings, confidence=83.23999786376953%\n",
            "baby_back_ribs.jpg: true=baby_back_ribs, predicted=baby_back_ribs, confidence=42.54999923706055%\n",
            "grilled_salmon.jpg: true=grilled_salmon, predicted=mussels, confidence=42.5099983215332%\n",
            "beet_salad.jpg: true=beet_salad, predicted=beet_salad, confidence=98.83999633789062%\n",
            "pancakes.jpg: true=pancakes, predicted=pancakes, confidence=99.19999694824219%\n",
            "chicken_quesadilla.jpg: true=chicken_quesadilla, predicted=chicken_quesadilla, confidence=99.81999969482422%\n",
            "macarons.jpg: true=macarons, predicted=macarons, confidence=98.93000030517578%\n",
            "lobster_bisque.jpg: true=lobster_bisque, predicted=lobster_bisque, confidence=99.69999694824219%\n",
            "miso_soup.jpg: true=miso_soup, predicted=miso_soup, confidence=96.86000061035156%\n",
            "lobster_roll_sandwich.jpg: true=lobster_roll_sandwich, predicted=lobster_roll_sandwich, confidence=95.0199966430664%\n"
          ]
        }
      ]
    },
    {
      "cell_type": "code",
      "source": [
        "df = pd.DataFrame(results)\n",
        "df.to_csv(\"inference_results.csv\", index=False)"
      ],
      "metadata": {
        "id": "l9FNRrhsNJKm"
      },
      "execution_count": 17,
      "outputs": []
    },
    {
      "cell_type": "code",
      "source": [],
      "metadata": {
        "id": "6_zQZz_SNf-i"
      },
      "execution_count": null,
      "outputs": []
    }
  ]
}